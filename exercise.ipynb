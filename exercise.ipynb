{
 "cells": [
  {
   "cell_type": "code",
   "execution_count": 1,
   "id": "8e546596",
   "metadata": {},
   "outputs": [],
   "source": [
    "from typing import TypedDict\n",
    "from langgraph.graph import StateGraph, START, END"
   ]
  },
  {
   "cell_type": "code",
   "execution_count": null,
   "id": "5e62ed3a",
   "metadata": {},
   "outputs": [],
   "source": [
    "class AgentState(TypedDict):\n",
    "    \"\"\"\n",
    "    This class represents the state of the agent in the conversation.\n",
    "    \"\"\"\n",
    "    player_name: str\n",
    "    target_number: int\n",
    "    lower_bound: int\n",
    "    upper_bound: int\n",
    "    attempt: int\n",
    "    result: int"
   ]
  },
  {
   "cell_type": "code",
   "execution_count": null,
   "id": "94052bf0",
   "metadata": {},
   "outputs": [],
   "source": [
    "def guess(state: AgentState) -> AgentState:\n",
    "    \"\"\"\n",
    "    This function simulates the agent's guess in a number guessing game.\n",
    "    It updates the state with the result of the guess.\n",
    "    \"\"\"\n",
    "    # Simulate a guess (for example, always guessing the middle of the range)\n",
    "    guess = (state['lower_bound'] + state['upper_bound']) // 2\n",
    "    state['attempt'] += 1\n",
    "    state['result'] = guess\n",
    "    return state"
   ]
  },
  {
   "cell_type": "code",
   "execution_count": null,
   "id": "16f71a79",
   "metadata": {},
   "outputs": [],
   "source": [
    "def decide_next_node(state: AgentState) -> AgentState:\n",
    "    \"\"\"\n",
    "    This function decides the next node based on the operation specified in the state.\n",
    "    \"\"\"\n",
    "    if state[\"operation\"] == \"add\":\n",
    "        return \"loop\"\n",
    "    elif state[\"operation\"] == \"subtract\":\n",
    "        return \"exit\"\n",
    "    else:\n",
    "        raise ValueError(\"Unknown operation\")"
   ]
  }
 ],
 "metadata": {
  "kernelspec": {
   "display_name": "myenv (3.10.0)",
   "language": "python",
   "name": "python3"
  },
  "language_info": {
   "codemirror_mode": {
    "name": "ipython",
    "version": 3
   },
   "file_extension": ".py",
   "mimetype": "text/x-python",
   "name": "python",
   "nbconvert_exporter": "python",
   "pygments_lexer": "ipython3",
   "version": "3.10.0"
  }
 },
 "nbformat": 4,
 "nbformat_minor": 5
}
